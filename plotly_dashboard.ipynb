{
 "cells": [
  {
   "cell_type": "markdown",
   "metadata": {},
   "source": [
    "## Plotly dashboard example"
   ]
  },
  {
   "cell_type": "code",
   "execution_count": null,
   "metadata": {},
   "outputs": [],
   "source": [
    "import pandas as pd\n",
    "import plotly.express as px\n",
    "import dash\n",
    "from dash import dcc\n",
    "from dash import html"
   ]
  },
  {
   "cell_type": "code",
   "execution_count": null,
   "metadata": {},
   "outputs": [],
   "source": [
    "# Load the dataset\n",
    "df = pd.read_excel(\"/Volumes/T7/Career/School/MSADSB/BTA 520/housing2.xlsx\")"
   ]
  },
  {
   "cell_type": "code",
   "execution_count": null,
   "metadata": {},
   "outputs": [],
   "source": [
    "app = dash.Dash(__name__)"
   ]
  },
  {
   "cell_type": "code",
   "execution_count": null,
   "metadata": {},
   "outputs": [],
   "source": [
    "# Define the bin edges and labels\n",
    "bin_edges = [0, 30, 60, 90, float(\"inf\")]\n",
    "bin_labels = ['0-30', '31-60', '61-90', '90+']\n",
    "\n",
    "# Bin the dataset by the 'daysOnZillow' column\n",
    "df['days_bin'] = pd.cut(df['daysOnZillow'], bins=bin_edges, labels=bin_labels, right=False)"
   ]
  },
  {
   "cell_type": "code",
   "execution_count": null,
   "metadata": {},
   "outputs": [],
   "source": [
    "df.shape"
   ]
  },
  {
   "cell_type": "code",
   "execution_count": null,
   "metadata": {},
   "outputs": [],
   "source": [
    "df.drop(df[df['price'] >= 10000000].index, inplace = True)\n",
    "df.shape"
   ]
  },
  {
   "cell_type": "code",
   "execution_count": null,
   "metadata": {},
   "outputs": [],
   "source": [
    "df\n",
    "df.max()"
   ]
  },
  {
   "cell_type": "code",
   "execution_count": null,
   "metadata": {},
   "outputs": [],
   "source": [
    "# Create a scatter plot of 'lastSoldPrice' vs 'zestimate'\n",
    "scatter_fig = px.scatter(df, x='lastSoldPrice', y='zestimate', color='days_bin')\n",
    "scatter_fig = px.scatter(df, x='lastSoldPrice', y='daysOnZillow', color='address/zipcode')"
   ]
  },
  {
   "cell_type": "code",
   "execution_count": null,
   "metadata": {},
   "outputs": [],
   "source": [
    "# Create a bar chart of 'bedrooms' count by 'days_bin'\n",
    "bar_fig = px.bar(df, x='days_bin', y='bedrooms', color='days_bin')"
   ]
  },
  {
   "cell_type": "code",
   "execution_count": null,
   "metadata": {},
   "outputs": [],
   "source": [
    "# Create a layout for the dashboard\n",
    "app.layout = html.Div([\n",
    "    html.H1(\"Real Estate Dashboard\"),\n",
    "    dcc.Graph(figure=scatter_fig),\n",
    "    dcc.Graph(figure=bar_fig)\n",
    "])"
   ]
  },
  {
   "cell_type": "code",
   "execution_count": null,
   "metadata": {},
   "outputs": [],
   "source": [
    "# Run the app\n",
    "if __name__ == '__main__':\n",
    "    app.run_server(host='localhost',port=8005)"
   ]
  }
 ],
 "metadata": {
  "language_info": {
   "name": "python"
  },
  "orig_nbformat": 4
 },
 "nbformat": 4,
 "nbformat_minor": 2
}
